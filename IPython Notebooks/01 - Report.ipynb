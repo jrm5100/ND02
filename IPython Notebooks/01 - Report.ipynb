{
 "cells": [
  {
   "cell_type": "markdown",
   "metadata": {},
   "source": [
    "# Open Street Maps Data Import and Analysis"
   ]
  },
  {
   "cell_type": "markdown",
   "metadata": {},
   "source": [
    "# Intro"
   ]
  },
  {
   "cell_type": "markdown",
   "metadata": {},
   "source": [
    "Data for Raleigh, North Carolina was downloaded from MapZen (https://mapzen.com/data/metro-extracts).\n",
    "\n",
    "It was converted to JSON while being structured and corrected/normalized, then imported into mongodb."
   ]
  },
  {
   "cell_type": "code",
   "execution_count": 3,
   "metadata": {
    "collapsed": true
   },
   "outputs": [],
   "source": [
    "from pymongo import MongoClient\n",
    "client = MongoClient()\n",
    "db = client.osm\n",
    "collection = db.raleigh"
   ]
  },
  {
   "cell_type": "markdown",
   "metadata": {},
   "source": [
    "# Problems encountered"
   ]
  },
  {
   "cell_type": "markdown",
   "metadata": {
    "collapsed": true
   },
   "source": [
    "There are certainly multiple problems or areas for improvement, but three issues that stuck out were:\n",
    "\n",
    "1. Inconsistent Street Names\n",
    "2. Inconsistent Postal Codes\n",
    "3. Questionable Validity of Education Ammenity Tags"
   ]
  },
  {
   "cell_type": "markdown",
   "metadata": {
    "collapsed": true
   },
   "source": [
    "### Street Names"
   ]
  },
  {
   "cell_type": "markdown",
   "metadata": {},
   "source": [
    "Aside from the expected standardization (such as \"st\" to \"Street\") that was required, some nodes had street names that were easily correctible but very specific.  This means they required manual checking (consistency with Google Maps) and specific one-off corrections:\n",
    "\n",
    "* \"Meadowmont Village CIrcle\" becomes \"Meadowmont Village Circle\"\n",
    "* \"LaurelcherryStreet\" becomes \"Laurel Cherry Street\"\n",
    "* \"Garrett Driver\" becomes \"Garrett Drive\"\n",
    "\n",
    "Others had street names that could not be verified:\n",
    "\n",
    "* \"Triangle Family Practice\"\n",
    "*  Multiple similar names with no best choice:\n",
    "    * \"NC Highway 55 West\"\n",
    "    * \"NC Highway 55\"\n",
    "    * \"Highway West\"\n",
    "    * \"Highway 55 West\"\n",
    "    * \"Highway 55\"\n",
    "    * \"US 55\"\n"
   ]
  },
  {
   "cell_type": "markdown",
   "metadata": {},
   "source": [
    "### Postal Codes"
   ]
  },
  {
   "cell_type": "markdown",
   "metadata": {
    "collapsed": true
   },
   "source": [
    "Postal codes were suprisingly clean after standardization to a 5-digit zipcode.  A significant number of entries had a more specific 9-digit postal code in the form of #####-####.  This was easily corrected with the following function during import:"
   ]
  },
  {
   "cell_type": "code",
   "execution_count": 5,
   "metadata": {
    "collapsed": false
   },
   "outputs": [
    {
     "name": "stdout",
     "output_type": "stream",
     "text": [
      "27705\n",
      "27612\n",
      "None\n"
     ]
    }
   ],
   "source": [
    "import re\n",
    "postcode_re = re.compile(r'^[0-9]{5}$')\n",
    "extended_postcode_re = re.compile(r'^[0-9]{5}-[0-9]{4}$')\n",
    "\n",
    "def correct_postcode(postcode):\n",
    "    \"\"\"Try to convert postcode to 5 digit int\"\"\"\n",
    "    if extended_postcode_re.match(postcode): #strip extended postcode with \"-####\"\n",
    "        postcode = postcode[0:5]\n",
    "        return int(postcode)\n",
    "    elif postcode_re.match(postcode): #normal 5 digit postcode\n",
    "        return int(postcode)\n",
    "    else:\n",
    "        return None\n",
    "    \n",
    "#For example:\n",
    "print(correct_postcode(\"27705\")) #5-digit\n",
    "print(correct_postcode(\"27612-5947\")) #9-digit\n",
    "print(correct_postcode(\"277030\")) #invalid"
   ]
  },
  {
   "cell_type": "markdown",
   "metadata": {},
   "source": [
    "Only 6 zipcode entries (out of 6,570 total) were invalid after this correction:\n",
    "\n",
    "* Two with a different format (\"275198404\", \"275609194\") than the majority of entries\n",
    "* Three with an incorrect total number of digits (\"277030\", \"275199\", \"2612-6401\")\n",
    "* One ('NC') that was seemingly transposed from a \"State\" field."
   ]
  },
  {
   "cell_type": "markdown",
   "metadata": {
    "collapsed": true
   },
   "source": [
    "### Use of Amenity Tags for Education"
   ]
  },
  {
   "cell_type": "markdown",
   "metadata": {},
   "source": [
    "After importing the data I took a look at a few of the \"education\" amenity tags ('university', 'college', and 'school') to see how the major colleges and universities in the area may be marked."
   ]
  },
  {
   "cell_type": "code",
   "execution_count": 6,
   "metadata": {
    "collapsed": false
   },
   "outputs": [
    {
     "name": "stdout",
     "output_type": "stream",
     "text": [
      "{'_id': 'Duke University East Campus', 'count': 3}\n",
      "{'_id': 'Duke University Medical Center', 'count': 1}\n",
      "{'_id': 'Campbell University: Norman Adrian Wiggins School of Law', 'count': 1}\n",
      "{'_id': \"St. Augustine's University\", 'count': 1}\n",
      "{'_id': 'Duke University Central Campus', 'count': 1}\n",
      "{'_id': 'JC Raulston Arboretum at NC State University', 'count': 1}\n",
      "{'_id': 'North Carolina Central University', 'count': 1}\n",
      "{'_id': 'Duke University West Campus', 'count': 1}\n",
      "{'_id': 'North Carolina State University (Centennial Campus)', 'count': 1}\n",
      "{'_id': None, 'count': 1}\n",
      "{'_id': 'William Peace University', 'count': 1}\n",
      "{'_id': 'Campbell University RTP Campus', 'count': 1}\n"
     ]
    }
   ],
   "source": [
    "#Example Code: List of 'university' tags\n",
    "pipeline = [\n",
    "    {'$match':{'amenity':'university'}},\n",
    "    {'$group':{'_id':'$name', 'count':{'$sum':1}}},\n",
    "    {'$sort':{'count':-1}},\n",
    "]\n",
    "documents = collection.aggregate(pipeline)\n",
    "for r in documents['result']:\n",
    "    print(r)"
   ]
  },
  {
   "cell_type": "markdown",
   "metadata": {},
   "source": [
    "These tags seem to be infrequently used and are inconsistent when they are used.  According to the specificaitons (https://wiki.openstreetmap.org/wiki/Map_Features#Education):\n",
    "\n",
    "* \"university\" indicates a university campus.\n",
    "* \"college\" indicates a college campus or building\n",
    "* \"school\" indicates a school and grounds.\n",
    "\n",
    "While some tags are as expected (\"Duke University East Campus\" appears multiple times as \"university\"), there are issues.\n",
    "\n",
    "* There is no name for 1 universitiy, 28 college, and 21 school entries.\n",
    "* \"Durham Tech Community College\" appears as a \"college\" while \"Durham Technical Community College\" appears twice as a school.\n",
    "* \"Duke University\" is listed as a \"school\" while various campus regions are listed as \"university\".\n",
    "\n",
    "I believe that this inconsistency is at least partially to blame on the unclear documentation for these tags."
   ]
  },
  {
   "cell_type": "markdown",
   "metadata": {},
   "source": [
    "# Overview of the Data"
   ]
  },
  {
   "cell_type": "code",
   "execution_count": 7,
   "metadata": {
    "collapsed": true
   },
   "outputs": [],
   "source": [
    "#filesize"
   ]
  },
  {
   "cell_type": "code",
   "execution_count": 8,
   "metadata": {
    "collapsed": true
   },
   "outputs": [],
   "source": [
    "#number of different kinds of tags"
   ]
  },
  {
   "cell_type": "code",
   "execution_count": 9,
   "metadata": {
    "collapsed": true
   },
   "outputs": [],
   "source": [
    "#visualization"
   ]
  },
  {
   "cell_type": "markdown",
   "metadata": {},
   "source": [
    "# Additional Ideas"
   ]
  },
  {
   "cell_type": "code",
   "execution_count": 10,
   "metadata": {
    "collapsed": true
   },
   "outputs": [],
   "source": [
    "#Consistency Check of Street Names (Nodes) vs Tiger Data street names (Ways)"
   ]
  },
  {
   "cell_type": "code",
   "execution_count": 11,
   "metadata": {
    "collapsed": true
   },
   "outputs": [],
   "source": [
    "#Aggregation2"
   ]
  },
  {
   "cell_type": "code",
   "execution_count": 12,
   "metadata": {
    "collapsed": true
   },
   "outputs": [],
   "source": [
    "#Aggregation3"
   ]
  },
  {
   "cell_type": "markdown",
   "metadata": {},
   "source": [
    "* update time vs location very large scatterplot- subsample?\n",
    "* Types of data input by users- eg same user did most Ways\n",
    "* kinds of tags by node, way, relation"
   ]
  },
  {
   "cell_type": "markdown",
   "metadata": {},
   "source": [
    "# Conclusion"
   ]
  }
 ],
 "metadata": {
  "kernelspec": {
   "display_name": "Python 3",
   "language": "python",
   "name": "python3"
  },
  "language_info": {
   "codemirror_mode": {
    "name": "ipython",
    "version": 3
   },
   "file_extension": ".py",
   "mimetype": "text/x-python",
   "name": "python",
   "nbconvert_exporter": "python",
   "pygments_lexer": "ipython3",
   "version": "3.4.3"
  }
 },
 "nbformat": 4,
 "nbformat_minor": 0
}
