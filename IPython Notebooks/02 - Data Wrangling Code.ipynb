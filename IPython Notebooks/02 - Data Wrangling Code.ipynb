{
 "cells": [
  {
   "cell_type": "code",
   "execution_count": 1,
   "metadata": {
    "collapsed": true
   },
   "outputs": [],
   "source": [
    "#datafile = \"../raleigh_north-carolina.osm\"\n",
    "datafile = \"../Submission/04-sample.osm\""
   ]
  },
  {
   "cell_type": "code",
   "execution_count": 2,
   "metadata": {
    "collapsed": true
   },
   "outputs": [],
   "source": [
    "import json\n",
    "import xml.etree.cElementTree as ET\n",
    "import re\n",
    "from collections import defaultdict"
   ]
  },
  {
   "cell_type": "markdown",
   "metadata": {},
   "source": [
    "# Audit Data for some fields"
   ]
  },
  {
   "cell_type": "markdown",
   "metadata": {},
   "source": [
    "## Count Tags"
   ]
  },
  {
   "cell_type": "code",
   "execution_count": 3,
   "metadata": {
    "collapsed": true
   },
   "outputs": [],
   "source": [
    "def count_tags(filename):\n",
    "        # YOUR CODE HERE\n",
    "        tags = {}\n",
    "        for event, elem in ET.iterparse(filename):\n",
    "            if event == 'end':\n",
    "                if elem.tag not in tags.keys():\n",
    "                    tags[elem.tag] = 1\n",
    "                else:\n",
    "                    tags[elem.tag] += 1\n",
    "        return tags"
   ]
  },
  {
   "cell_type": "code",
   "execution_count": 4,
   "metadata": {
    "collapsed": false
   },
   "outputs": [
    {
     "name": "stdout",
     "output_type": "stream",
     "text": [
      "{'member': 723, 'nd': 281437, 'relation': 74, 'osm': 1, 'node': 252427, 'way': 21146, 'tag': 81286}\n"
     ]
    }
   ],
   "source": [
    "tags = count_tags(datafile)\n",
    "print(tags)"
   ]
  },
  {
   "cell_type": "markdown",
   "metadata": {},
   "source": [
    "## Check Street Names"
   ]
  },
  {
   "cell_type": "code",
   "execution_count": 5,
   "metadata": {
    "collapsed": false
   },
   "outputs": [],
   "source": [
    "street_type_re = re.compile(r'\\b\\S+\\.?$', re.IGNORECASE)\n",
    "expected = [\"Street\", \"Avenue\", \"Boulevard\", \"Drive\", \"Court\", \"Place\", \"Square\", \"Lane\", \"Road\", \n",
    "            \"Trail\", \"Parkway\", \"Commons\", \"Loop\", \"Way\", \"Run\", \"Circle\"]\n",
    "\n",
    "#create default dict and add known mappings\n",
    "#TODO: update with S, W, E, etc.\n",
    "mapping_street_name_def = defaultdict(lambda: \"\")\n",
    "mapping_street_name = { \"St\": \"Street\", \"St.\": \"Street\", \"Rd\": \"Road\", \"Rd.\": \"Road\", \"N.\":\"North\",\n",
    "            \"Ave\":\"Avenue\", \"Ave.\":\"Avenue\", \"Blvd\":\"Boulevard\", \"Blvd.\":\"Boulevard\",\n",
    "            \"Pkwy\":\"Parkway\", \"Dr\":\"Drive\", \"Ln\":\"Lane\", \"Ct\":\"Court\"}\n",
    "for k,v in mapping_street_name.items():\n",
    "    mapping_street_name_def[k] = v\n",
    "\n",
    "def audit_street_type(street_types, street_mapping, street_name):\n",
    "    \"\"\"Check if street name is a known name or maps to a known name.  If not, record it.\"\"\"\n",
    "    m = street_type_re.search(street_name)\n",
    "    if m:\n",
    "        street_type = m.group()           \n",
    "        if (street_type not in expected) and (street_mapping[street_type] not in expected):\n",
    "            street_types[street_type].add(street_name)\n",
    "\n",
    "def audit(osmfile):\n",
    "    osm_file = open(osmfile, \"r\")\n",
    "    street_types = defaultdict(set)\n",
    "    for event, elem in ET.iterparse(osm_file, events=(\"start\",)):\n",
    "        if elem.tag == \"node\" or elem.tag == \"way\":\n",
    "            for tag in elem.iter(\"tag\"):\n",
    "                if tag.attrib['k'] == \"addr:street\":\n",
    "                    audit_street_type(street_types, mapping_street_name_def, tag.attrib['v'])\n",
    "\n",
    "    return street_types"
   ]
  },
  {
   "cell_type": "code",
   "execution_count": 6,
   "metadata": {
    "collapsed": false
   },
   "outputs": [
    {
     "name": "stdout",
     "output_type": "stream",
     "text": [
      "Crescent {'West Acres Crescent'}\n",
      "West {'Highway 54 West'}\n",
      "501 {'US 15;US 501'}\n",
      "Fork {'Dry Fork'}\n",
      "Crossing {'Oldham Forest Crossing'}\n",
      "Plaza {'City Hall Plaza'}\n",
      "LaurelcherryStreet {'LaurelcherryStreet'}\n",
      "55 {'NC Highway 55', 'Highway 55'}\n",
      "751 {'NC Highway 751'}\n"
     ]
    }
   ],
   "source": [
    "street_types = audit(datafile)\n",
    "for k,v in street_types.items():\n",
    "    print(k,v)"
   ]
  },
  {
   "cell_type": "markdown",
   "metadata": {},
   "source": [
    "### Correction Functions for specific strings"
   ]
  },
  {
   "cell_type": "code",
   "execution_count": 7,
   "metadata": {
    "collapsed": true
   },
   "outputs": [],
   "source": [
    "def update_name(name, mapping):\n",
    "    name = name.split(' ')\n",
    "    for idx, subname in enumerate(name):\n",
    "        if subname in mapping.keys():\n",
    "            name[idx] = mapping[subname]\n",
    "    name = \" \".join(name)\n",
    "\n",
    "    return name"
   ]
  },
  {
   "cell_type": "markdown",
   "metadata": {},
   "source": [
    "### Define specific formatting functions for each type of data"
   ]
  },
  {
   "cell_type": "code",
   "execution_count": 8,
   "metadata": {
    "collapsed": true
   },
   "outputs": [],
   "source": [
    "def process_node(element):\n",
    "    \"\"\"Format Node object and associated tags.  Remove attributes as they are processed.\"\"\"\n",
    "    node = {'type':'node'}\n",
    "    #Extract raw information for this node\n",
    "    attributes = {a:element.attrib[a] for a in element.attrib}\n",
    "    tags = [(t.attrib['k'],t.attrib['v']) for t in element.findall('tag')]\n",
    "    #tags used a list of tuples instead of dict because of potential duplicate keys\n",
    "    \n",
    "    #Add ID\n",
    "    node['id'] = element.attrib['id']\n",
    "    del attributes['id']\n",
    "    \n",
    "    #Add Position\n",
    "    if 'lat' in attributes and 'lon' in attributes:\n",
    "        node['pos'] = [float(element.attrib[\"lat\"]), float(element.attrib[\"lon\"])]\n",
    "        del attributes['lat']\n",
    "        del attributes['lon']\n",
    "\n",
    "    #Created\n",
    "    CREATED = [\"version\", \"changeset\", \"timestamp\", \"user\", \"uid\"]\n",
    "    created_attrib = [a for a in attributes if a in CREATED] #Which of the created attr are present\n",
    "    if len(created_attrib) > 0:\n",
    "        node['created'] = {}\n",
    "        for a in created_attrib:\n",
    "            node['created'][a] = element.attrib[a]\n",
    "            del attributes[a]\n",
    "    \n",
    "    #Remaining Attributes\n",
    "    for a in attributes:\n",
    "        if problemchars.match(a): #skip attributes with problematic keys\n",
    "            continue\n",
    "        else:\n",
    "            node[a] = element.attrib[a]\n",
    "\n",
    "    #Process tags\n",
    "    problemchars = re.compile(r'[=\\+/&<>;\\'\"\\?%#$@\\,\\. \\t\\r\\n]')\n",
    "    address = re.compile(r'^addr:([a-z]|_)+$')#match 'addr', one colon, some tag\n",
    "    gnis = re.compile(r'^gnis:([a-z]|_)+$')#similar structure to address.  Seems interesting.\n",
    "    lower = re.compile(r'^([a-z]|_)*$')\n",
    "    lower_colon = re.compile(r'^([a-z]|_)*:([a-z]|_)*$')\n",
    "\n",
    "    for k,v in tags:\n",
    "        if problemchars.match(k):\n",
    "            continue\n",
    "        elif address.match(k):\n",
    "            #Add Address dict if needed\n",
    "            if 'address' not in node.keys(): #add address dict if not present\n",
    "                node['address'] = dict()\n",
    "            #Get subnode and corrected (if possible) value\n",
    "            subnode = k.split(':')[1]\n",
    "            if subnode == 'street':\n",
    "                v = update_name(v, mapping_street_name)\n",
    "            #Add value\n",
    "            node['address'][subnode] = v\n",
    "        elif gnis.match(k):\n",
    "            if 'gnis' not in node.keys(): #add address dict if not present\n",
    "                node['gnis'] = dict()\n",
    "            node['gnis'][k.split(':')[1]] = v\n",
    "        elif lower.match(k) or lower_colon.match(k):\n",
    "            node[k] = v         \n",
    "    \n",
    "    return node\n",
    "    \n",
    "def process_way(element):\n",
    "    \"\"\"Format Way object and associated nd and tags\"\"\"\n",
    "    way = {'type':'way'}\n",
    "    #changeset, id, timestamp, uid, user, version\n",
    "    #list nd each with ref\n",
    "    #list tags\n",
    "    return way"
   ]
  },
  {
   "cell_type": "markdown",
   "metadata": {},
   "source": [
    "### Iterate through XML file.  Process elements and write to JSON one at a time."
   ]
  },
  {
   "cell_type": "code",
   "execution_count": 9,
   "metadata": {
    "collapsed": true
   },
   "outputs": [],
   "source": [
    "def shape_element(element):\n",
    "    if element.tag == \"node\":\n",
    "        shaped_element = process_node(element)\n",
    "    elif element.tag == 'way':\n",
    "        shaped_element = process_way(element)\n",
    "    else:\n",
    "        shaped_element = None\n",
    "    return shaped_element\n",
    "        \n",
    "\n",
    "def process_map(file_in):\n",
    "    file_out = \"{0}.json\".format(file_in)\n",
    "    with open(file_out, \"w\") as fo:\n",
    "        for _, element in ET.iterparse(file_in):\n",
    "            el = shape_element(element)\n",
    "            if el:\n",
    "                fo.write(json.dumps(el, indent=2)+\"\\n\")"
   ]
  },
  {
   "cell_type": "code",
   "execution_count": 10,
   "metadata": {
    "collapsed": false
   },
   "outputs": [],
   "source": [
    "process_map(datafile)"
   ]
  },
  {
   "cell_type": "code",
   "execution_count": null,
   "metadata": {
    "collapsed": true
   },
   "outputs": [],
   "source": []
  }
 ],
 "metadata": {
  "kernelspec": {
   "display_name": "Python 3",
   "language": "python",
   "name": "python3"
  },
  "language_info": {
   "codemirror_mode": {
    "name": "ipython",
    "version": 3
   },
   "file_extension": ".py",
   "mimetype": "text/x-python",
   "name": "python",
   "nbconvert_exporter": "python",
   "pygments_lexer": "ipython3",
   "version": "3.4.3"
  }
 },
 "nbformat": 4,
 "nbformat_minor": 0
}
