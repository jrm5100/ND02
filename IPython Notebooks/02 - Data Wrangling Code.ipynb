{
 "cells": [
  {
   "cell_type": "markdown",
   "metadata": {},
   "source": [
    "#Import data from XML to JSON"
   ]
  },
  {
   "cell_type": "code",
   "execution_count": 9,
   "metadata": {
    "collapsed": true
   },
   "outputs": [],
   "source": [
    "#datafile = \"../raleigh_north-carolina.osm\"\n",
    "datafile = \"../Submission/04-sample.osm\""
   ]
  },
  {
   "cell_type": "code",
   "execution_count": 10,
   "metadata": {
    "collapsed": true
   },
   "outputs": [],
   "source": [
    "import json\n",
    "import xml.etree.cElementTree as ET\n",
    "import re"
   ]
  },
  {
   "cell_type": "code",
   "execution_count": 11,
   "metadata": {
    "collapsed": true
   },
   "outputs": [],
   "source": [
    "def count_tags(filename):\n",
    "        # YOUR CODE HERE\n",
    "        tags = {}\n",
    "        for event, elem in ET.iterparse(filename):\n",
    "            if event == 'end':\n",
    "                if elem.tag not in tags.keys():\n",
    "                    tags[elem.tag] = 1\n",
    "                else:\n",
    "                    tags[elem.tag] += 1\n",
    "        return tags"
   ]
  },
  {
   "cell_type": "code",
   "execution_count": 12,
   "metadata": {
    "collapsed": false
   },
   "outputs": [
    {
     "name": "stdout",
     "output_type": "stream",
     "text": [
      "{'node': 252427, 'osm': 1, 'relation': 74, 'nd': 281437, 'member': 723, 'tag': 81286, 'way': 21146}\n"
     ]
    }
   ],
   "source": [
    "tags = count_tags(datafile)\n",
    "print(tags)"
   ]
  },
  {
   "cell_type": "markdown",
   "metadata": {},
   "source": [
    "### Define specific formatting functions for each type of data"
   ]
  },
  {
   "cell_type": "code",
   "execution_count": 13,
   "metadata": {
    "collapsed": true
   },
   "outputs": [],
   "source": [
    "def process_node(element):\n",
    "    \"\"\"Format Node object and associated tags.  Remove attributes as they are processed.\"\"\"\n",
    "    node = {'type':'node'}\n",
    "    #Extract raw information for this node\n",
    "    attributes = {a:element.attrib[a] for a in element.attrib}\n",
    "    tags = {t.attrib['k']:t.attrib['v'] for t in element.findall('tag')}\n",
    "    \n",
    "    #Add ID\n",
    "    node['id'] = element.attrib['id']\n",
    "    del attributes['id']\n",
    "    \n",
    "    #Add Position\n",
    "    if 'lat' in attributes and 'lon' in attributes:\n",
    "        node['pos'] = [float(element.attrib[\"lat\"]), float(element.attrib[\"lon\"])]\n",
    "        del attributes['lat']\n",
    "        del attributes['lon']\n",
    "\n",
    "    #Created\n",
    "    CREATED = [\"version\", \"changeset\", \"timestamp\", \"user\", \"uid\"]\n",
    "    created_attrib = [a for a in attributes if a in CREATED] #Which of the created attr are present\n",
    "    if len(created_attrib) > 0:\n",
    "        node['created'] = {}\n",
    "        for a in created_attrib:\n",
    "            node['created'][a] = element.attrib[a]\n",
    "            del attributes[a]\n",
    "    \n",
    "    #Remaining Attributes\n",
    "    for a in attributes:\n",
    "        if problemchars.match(a): #skip attributes with problematic keys\n",
    "            continue\n",
    "        else:\n",
    "            node[a] = element.attrib[a]\n",
    "\n",
    "    #Process tag dict\n",
    "    \n",
    "    \n",
    "    \n",
    "    return node\n",
    "    \n",
    "def process_way(element):\n",
    "    \"\"\"Format Way object and associated nd and tags\"\"\"\n",
    "    way = {'type':'way'}\n",
    "    #changeset, id, timestamp, uid, user, version\n",
    "    #list nd each with ref\n",
    "    #list tags\n",
    "    return way\n",
    "    \n",
    "    \n",
    "def process_relation(element):\n",
    "    \"\"\"Format Relation object and associated members and tags\"\"\"\n",
    "    relation = {'type':'relation'}\n",
    "    #changeset, id, timestamp, uid, user, version\n",
    "    #list members - ref, role, type\n",
    "    #list tags\n",
    "    return relation"
   ]
  },
  {
   "cell_type": "code",
   "execution_count": 14,
   "metadata": {
    "collapsed": true
   },
   "outputs": [],
   "source": [
    "lower = re.compile(r'^([a-z]|_)*$')\n",
    "lower_colon = re.compile(r'^([a-z]|_)*:([a-z]|_)*$')\n",
    "problemchars = re.compile(r'[=\\+/&<>;\\'\"\\?%#$@\\,\\. \\t\\r\\n]')"
   ]
  },
  {
   "cell_type": "markdown",
   "metadata": {},
   "source": [
    "### Iterate through XML file.  Process elements and write to JSON one at a time."
   ]
  },
  {
   "cell_type": "code",
   "execution_count": 15,
   "metadata": {
    "collapsed": true
   },
   "outputs": [],
   "source": [
    "def shape_element(element):\n",
    "    if element.tag == \"node\":\n",
    "        shaped_element = process_node(element)\n",
    "    elif element.tag == 'way':\n",
    "        shaped_element = process_way(element)\n",
    "    elif element.tag == 'relation':\n",
    "        shaped_element = process_relation(element)\n",
    "    else:\n",
    "        shaped_element = None\n",
    "    return shaped_element\n",
    "        \n",
    "\n",
    "def process_map(file_in):\n",
    "    file_out = \"{0}.json\".format(file_in)\n",
    "    with open(file_out, \"w\") as fo:\n",
    "        for _, element in ET.iterparse(file_in):\n",
    "            el = shape_element(element)\n",
    "            if el:\n",
    "                fo.write(json.dumps(el, indent=2)+\"\\n\")"
   ]
  },
  {
   "cell_type": "code",
   "execution_count": 16,
   "metadata": {
    "collapsed": false
   },
   "outputs": [
    {
     "ename": "TypeError",
     "evalue": "an integer is required (got type str)",
     "output_type": "error",
     "traceback": [
      "\u001b[1;31m---------------------------------------------------------------------------\u001b[0m",
      "\u001b[1;31mTypeError\u001b[0m                                 Traceback (most recent call last)",
      "\u001b[1;32m<ipython-input-16-c6d32ffa85d5>\u001b[0m in \u001b[0;36m<module>\u001b[1;34m()\u001b[0m\n\u001b[1;32m----> 1\u001b[1;33m \u001b[0mprocess_map\u001b[0m\u001b[1;33m(\u001b[0m\u001b[0mdatafile\u001b[0m\u001b[1;33m)\u001b[0m\u001b[1;33m\u001b[0m\u001b[0m\n\u001b[0m",
      "\u001b[1;32m<ipython-input-15-b93fd7d9984d>\u001b[0m in \u001b[0;36mprocess_map\u001b[1;34m(file_in)\u001b[0m\n\u001b[0;32m     15\u001b[0m     \u001b[1;32mwith\u001b[0m \u001b[0mopen\u001b[0m\u001b[1;33m(\u001b[0m\u001b[0mfile_out\u001b[0m\u001b[1;33m,\u001b[0m \u001b[1;34m\"w\"\u001b[0m\u001b[1;33m)\u001b[0m \u001b[1;32mas\u001b[0m \u001b[0mfo\u001b[0m\u001b[1;33m:\u001b[0m\u001b[1;33m\u001b[0m\u001b[0m\n\u001b[0;32m     16\u001b[0m         \u001b[1;32mfor\u001b[0m \u001b[0m_\u001b[0m\u001b[1;33m,\u001b[0m \u001b[0melement\u001b[0m \u001b[1;32min\u001b[0m \u001b[0mET\u001b[0m\u001b[1;33m.\u001b[0m\u001b[0miterparse\u001b[0m\u001b[1;33m(\u001b[0m\u001b[0mfile_in\u001b[0m\u001b[1;33m)\u001b[0m\u001b[1;33m:\u001b[0m\u001b[1;33m\u001b[0m\u001b[0m\n\u001b[1;32m---> 17\u001b[1;33m             \u001b[0mel\u001b[0m \u001b[1;33m=\u001b[0m \u001b[0mshape_element\u001b[0m\u001b[1;33m(\u001b[0m\u001b[0melement\u001b[0m\u001b[1;33m)\u001b[0m\u001b[1;33m\u001b[0m\u001b[0m\n\u001b[0m\u001b[0;32m     18\u001b[0m             \u001b[1;32mif\u001b[0m \u001b[0mel\u001b[0m\u001b[1;33m:\u001b[0m\u001b[1;33m\u001b[0m\u001b[0m\n\u001b[0;32m     19\u001b[0m                 \u001b[0mfo\u001b[0m\u001b[1;33m.\u001b[0m\u001b[0mwrite\u001b[0m\u001b[1;33m(\u001b[0m\u001b[0mjson\u001b[0m\u001b[1;33m.\u001b[0m\u001b[0mdumps\u001b[0m\u001b[1;33m(\u001b[0m\u001b[0mel\u001b[0m\u001b[1;33m,\u001b[0m \u001b[0mindent\u001b[0m\u001b[1;33m=\u001b[0m\u001b[1;36m2\u001b[0m\u001b[1;33m)\u001b[0m\u001b[1;33m+\u001b[0m\u001b[1;34m\"\\n\"\u001b[0m\u001b[1;33m)\u001b[0m\u001b[1;33m\u001b[0m\u001b[0m\n",
      "\u001b[1;32m<ipython-input-15-b93fd7d9984d>\u001b[0m in \u001b[0;36mshape_element\u001b[1;34m(element)\u001b[0m\n\u001b[0;32m      1\u001b[0m \u001b[1;32mdef\u001b[0m \u001b[0mshape_element\u001b[0m\u001b[1;33m(\u001b[0m\u001b[0melement\u001b[0m\u001b[1;33m)\u001b[0m\u001b[1;33m:\u001b[0m\u001b[1;33m\u001b[0m\u001b[0m\n\u001b[0;32m      2\u001b[0m     \u001b[1;32mif\u001b[0m \u001b[0melement\u001b[0m\u001b[1;33m.\u001b[0m\u001b[0mtag\u001b[0m \u001b[1;33m==\u001b[0m \u001b[1;34m\"node\"\u001b[0m\u001b[1;33m:\u001b[0m\u001b[1;33m\u001b[0m\u001b[0m\n\u001b[1;32m----> 3\u001b[1;33m         \u001b[0mshaped_element\u001b[0m \u001b[1;33m=\u001b[0m \u001b[0mprocess_node\u001b[0m\u001b[1;33m(\u001b[0m\u001b[0melement\u001b[0m\u001b[1;33m)\u001b[0m\u001b[1;33m\u001b[0m\u001b[0m\n\u001b[0m\u001b[0;32m      4\u001b[0m     \u001b[1;32melif\u001b[0m \u001b[0melement\u001b[0m\u001b[1;33m.\u001b[0m\u001b[0mtag\u001b[0m \u001b[1;33m==\u001b[0m \u001b[1;34m'way'\u001b[0m\u001b[1;33m:\u001b[0m\u001b[1;33m\u001b[0m\u001b[0m\n\u001b[0;32m      5\u001b[0m         \u001b[0mshaped_element\u001b[0m \u001b[1;33m=\u001b[0m \u001b[0mprocess_way\u001b[0m\u001b[1;33m(\u001b[0m\u001b[0melement\u001b[0m\u001b[1;33m)\u001b[0m\u001b[1;33m\u001b[0m\u001b[0m\n",
      "\u001b[1;32m<ipython-input-13-01e7d0e79efe>\u001b[0m in \u001b[0;36mprocess_node\u001b[1;34m(element)\u001b[0m\n\u001b[0;32m     23\u001b[0m         \u001b[1;32mfor\u001b[0m \u001b[0ma\u001b[0m \u001b[1;32min\u001b[0m \u001b[0mcreated_attrib\u001b[0m\u001b[1;33m:\u001b[0m\u001b[1;33m\u001b[0m\u001b[0m\n\u001b[0;32m     24\u001b[0m             \u001b[1;32mif\u001b[0m \u001b[0ma\u001b[0m \u001b[1;33m==\u001b[0m \u001b[1;34m'timestamp'\u001b[0m\u001b[1;33m:\u001b[0m \u001b[1;31m#make a special case for timestamp so it isn't stored as str\u001b[0m\u001b[1;33m\u001b[0m\u001b[0m\n\u001b[1;32m---> 25\u001b[1;33m                 \u001b[0mnode\u001b[0m\u001b[1;33m[\u001b[0m\u001b[1;34m'created'\u001b[0m\u001b[1;33m]\u001b[0m\u001b[1;33m[\u001b[0m\u001b[1;34m'timestamp'\u001b[0m\u001b[1;33m]\u001b[0m \u001b[1;33m=\u001b[0m \u001b[0mdatetime\u001b[0m\u001b[1;33m.\u001b[0m\u001b[0mdatetime\u001b[0m\u001b[1;33m(\u001b[0m\u001b[0melement\u001b[0m\u001b[1;33m.\u001b[0m\u001b[0mattrib\u001b[0m\u001b[1;33m[\u001b[0m\u001b[1;34m'timestamp'\u001b[0m\u001b[1;33m]\u001b[0m\u001b[1;33m)\u001b[0m\u001b[1;33m\u001b[0m\u001b[0m\n\u001b[0m\u001b[0;32m     26\u001b[0m             \u001b[0mnode\u001b[0m\u001b[1;33m[\u001b[0m\u001b[1;34m'created'\u001b[0m\u001b[1;33m]\u001b[0m\u001b[1;33m[\u001b[0m\u001b[0ma\u001b[0m\u001b[1;33m]\u001b[0m \u001b[1;33m=\u001b[0m \u001b[0melement\u001b[0m\u001b[1;33m.\u001b[0m\u001b[0mattrib\u001b[0m\u001b[1;33m[\u001b[0m\u001b[0ma\u001b[0m\u001b[1;33m]\u001b[0m\u001b[1;33m\u001b[0m\u001b[0m\n\u001b[0;32m     27\u001b[0m             \u001b[1;32mdel\u001b[0m \u001b[0mattributes\u001b[0m\u001b[1;33m[\u001b[0m\u001b[0ma\u001b[0m\u001b[1;33m]\u001b[0m\u001b[1;33m\u001b[0m\u001b[0m\n",
      "\u001b[1;31mTypeError\u001b[0m: an integer is required (got type str)"
     ]
    }
   ],
   "source": [
    "process_map(datafile)"
   ]
  },
  {
   "cell_type": "markdown",
   "metadata": {},
   "source": [
    "      or element.tag == \"way\" :\n",
    "        # YOUR CODE HERE\n",
    "        node['type'] = element.tag\n",
    "        attributes = {a:element.attrib[a] for a in element.attrib}\n",
    "        tags = [(t.attrib['k'],t.attrib['v']) for t in element.findall('tag')]\n",
    "        noderefs = [n.attrib['ref'] for n in element.findall('nd')]\n",
    "        \n",
    "        #Add Position\n",
    "        if 'lat' in attributes and 'lon' in attributes:\n",
    "            node['pos'] = [float(element.attrib[\"lat\"]), float(element.attrib[\"lon\"])]\n",
    "            del attributes['lat']\n",
    "            del attributes['lon']\n",
    "        \n",
    "        #Created\n",
    "        created_attrib = [a for a in attributes if a in CREATED]\n",
    "        if len(created_attrib) > 0:\n",
    "            node['created'] = {}\n",
    "            for a in created_attrib:\n",
    "                node['created'][a] = element.attrib[a]\n",
    "                del attributes[a]\n",
    "                \n",
    "        #Remaining\n",
    "        for a in attributes:\n",
    "            if problemchars.match(a):\n",
    "                continue\n",
    "            else:\n",
    "                node[a] = element.attrib[a]\n",
    "        \n",
    "        #Tags\n",
    "        for t in tags:\n",
    "            if problemchars.match(t[0]):\n",
    "                continue\n",
    "            if t[0][0:5]=='addr:':\n",
    "                if t[0].count(':') > 1:\n",
    "                    continue\n",
    "                if 'address' not in node.keys():\n",
    "                    node['address'] = {}\n",
    "                addrkey = t[0].split(':')[1]\n",
    "                node['address'][addrkey] = t[1]\n",
    "            else:\n",
    "                node[t[0]] = t[1]\n",
    "        \n",
    "        #Node Refs\n",
    "        if len(noderefs) > 0:\n",
    "            node['node_refs'] = noderefs\n",
    "        \n",
    "        return node\n",
    "    else:\n",
    "        return None"
   ]
  }
 ],
 "metadata": {
  "kernelspec": {
   "display_name": "Python 3",
   "language": "python",
   "name": "python3"
  },
  "language_info": {
   "codemirror_mode": {
    "name": "ipython",
    "version": 3
   },
   "file_extension": ".py",
   "mimetype": "text/x-python",
   "name": "python",
   "nbconvert_exporter": "python",
   "pygments_lexer": "ipython3",
   "version": "3.4.3"
  }
 },
 "nbformat": 4,
 "nbformat_minor": 0
}
