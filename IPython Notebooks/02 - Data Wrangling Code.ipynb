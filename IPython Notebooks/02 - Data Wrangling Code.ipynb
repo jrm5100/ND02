{
 "cells": [
  {
   "cell_type": "code",
   "execution_count": 1,
   "metadata": {
    "collapsed": true
   },
   "outputs": [],
   "source": [
    "datafile = \"../raleigh_north-carolina.osm\"\n",
    "#datafile = \"../Submission/04-sample.osm\""
   ]
  },
  {
   "cell_type": "code",
   "execution_count": 2,
   "metadata": {
    "collapsed": true
   },
   "outputs": [],
   "source": [
    "import json\n",
    "import xml.etree.cElementTree as ET\n",
    "import re\n",
    "from collections import defaultdict"
   ]
  },
  {
   "cell_type": "markdown",
   "metadata": {},
   "source": [
    "# Audit Data for some fields"
   ]
  },
  {
   "cell_type": "markdown",
   "metadata": {},
   "source": [
    "## Count Tags"
   ]
  },
  {
   "cell_type": "code",
   "execution_count": 3,
   "metadata": {
    "collapsed": true
   },
   "outputs": [],
   "source": [
    "def count_tags(filename):\n",
    "        # YOUR CODE HERE\n",
    "        tags = {}\n",
    "        for event, elem in ET.iterparse(filename):\n",
    "            if event == 'end':\n",
    "                if elem.tag not in tags.keys():\n",
    "                    tags[elem.tag] = 1\n",
    "                else:\n",
    "                    tags[elem.tag] += 1\n",
    "        return tags"
   ]
  },
  {
   "cell_type": "code",
   "execution_count": 4,
   "metadata": {
    "collapsed": false
   },
   "outputs": [
    {
     "name": "stdout",
     "output_type": "stream",
     "text": [
      "{'osm': 1, 'node': 2524263, 'relation': 732, 'way': 211467, 'tag': 813843, 'nd': 2784745, 'member': 7647, 'bounds': 1}\n",
      "Total Nodes and Ways = 2,735,730\n"
     ]
    }
   ],
   "source": [
    "tags = count_tags(datafile)\n",
    "print(tags)\n",
    "print('Total Nodes and Ways = {:,}'.format(tags['node']+tags['way']))"
   ]
  },
  {
   "cell_type": "markdown",
   "metadata": {},
   "source": [
    "## Check Street Names"
   ]
  },
  {
   "cell_type": "code",
   "execution_count": 5,
   "metadata": {
    "collapsed": false
   },
   "outputs": [],
   "source": [
    "#Extract Street Type\n",
    "street_type_re = re.compile(r'\\b\\S+\\.?$', re.IGNORECASE)\n",
    "\n",
    "#Known Street Types\n",
    "expected = [\"Street\", \"Avenue\", \"Boulevard\", \"Drive\", \"Court\", \"Place\", \"Square\", \"Lane\", \"Road\", \n",
    "            \"Trail\", \"Parkway\", \"Commons\", \"Loop\", \"Way\", \"Run\", \"Circle\"]\n",
    "\n",
    "#Known Mappings\n",
    "mapping_street_name = { \"St\": \"Street\", \"St.\": \"Street\", \"Rd\": \"Road\", \"Rd.\": \"Road\",\n",
    "            \"Ave\":\"Avenue\", \"Ave.\":\"Avenue\", \"Blvd\":\"Boulevard\", \"Blvd.\":\"Boulevard\",\n",
    "            \"Pkwy\":\"Parkway\", \"Pky\":\"Parkway\", \"Dr\":\"Drive\", \"Ln\":\"Lane\", \"Ct\":\"Court\",\n",
    "            \"Pl\":\"Place\", \"Cir\":\"Circle\", \"N\":\"North\",\"E\":\"East\",\"S\":\"South\",\"W\":\"West\"}\n",
    "\n",
    "def audit_street_type(street_types, street_mapping, street_name):\n",
    "    \"\"\"Check if street name is a known name or maps to a known name.  If not, record it.\"\"\"\n",
    "    m = street_type_re.search(street_name)\n",
    "    if m:\n",
    "        street_type = m.group()           \n",
    "        if (street_type not in expected) and (street_type not in street_mapping.keys()):\n",
    "            street_types[street_type].add(street_name)\n",
    "\n",
    "def audit(osmfile):\n",
    "    osm_file = open(osmfile, \"r\")\n",
    "    street_types = defaultdict(set)\n",
    "    for event, elem in ET.iterparse(osm_file, events=(\"start\",)):\n",
    "        if elem.tag == \"node\" or elem.tag == \"way\":\n",
    "            for tag in elem.iter(\"tag\"):\n",
    "                if tag.attrib['k'] == \"addr:street\":\n",
    "                    audit_street_type(street_types, mapping_street_name, tag.attrib['v'])\n",
    "\n",
    "    return street_types"
   ]
  },
  {
   "cell_type": "code",
   "execution_count": 6,
   "metadata": {
    "collapsed": false
   },
   "outputs": [
    {
     "name": "stdout",
     "output_type": "stream",
     "text": [
      "Suite {'N Duke St Suite'}\n",
      "Plaza {'Park Forty Plaza', 'City Hall Plaza', 'Exchange Plaza'}\n",
      "Crescent {'West Acres Crescent'}\n",
      "Ext {'New Hope Commons Boulevard Ext'}\n",
      "Hills {'The Circle at North Hills'}\n",
      "100 {'100'}\n",
      "LaurelcherryStreet {'LaurelcherryStreet'}\n",
      "PI {'Alexander Promenade PI'}\n",
      "1000 {'Six Forks Road #1000'}\n",
      "ST {'W EDENTON ST'}\n",
      "West {'NC Highway 55 West', 'Highway 54 West', 'Highway West', 'Highway 55 West'}\n",
      "55 {'NC Highway 55', 'Highway 55', 'US 55'}\n",
      "Practice {'Triangle Family Practice'}\n",
      "Grove {'Newton Grove'}\n",
      "Extension {'Weaver Dairy Road Extension'}\n",
      "Highway {'Wake Forest Highway', 'Apex Highway'}\n",
      "Crossing {'Oldham Forest Crossing'}\n",
      "Bypass {'US 15 501 Bypass'}\n",
      "751 {'NC Highway 751'}\n",
      "70 {'US 70'}\n",
      "17 {'US Highway 17'}\n",
      "Point {'Rocky Point'}\n",
      "St, {'Morris St,'}\n",
      "CIrcle {'Meadowmont Village CIrcle'}\n",
      "54 {'West Highway 54', 'State Highway 54', 'West NC Highway 54', 'Highway 54'}\n",
      "Hill {'Chapel Hill'}\n",
      "Fork {'Dry Fork'}\n",
      "Terrace {'Stonebrook Terrace'}\n",
      "East {'US Highway 70 East'}\n",
      "Driver {'Garrett Driver'}\n",
      "501 {'US 15;US 501'}\n"
     ]
    }
   ],
   "source": [
    "street_types = audit(datafile)\n",
    "for k,v in street_types.items():\n",
    "    print(k,v)"
   ]
  },
  {
   "cell_type": "markdown",
   "metadata": {},
   "source": [
    "# Correct and Convert to JSON"
   ]
  },
  {
   "cell_type": "markdown",
   "metadata": {},
   "source": [
    "## Correction Functions for specific strings"
   ]
  },
  {
   "cell_type": "code",
   "execution_count": 7,
   "metadata": {
    "collapsed": true
   },
   "outputs": [],
   "source": [
    "def update_name(name, mapping):\n",
    "    name = name.split(' ')\n",
    "    for idx, subname in enumerate(name):\n",
    "        if subname in mapping.keys():\n",
    "            name[idx] = mapping[subname]\n",
    "    name = \" \".join(name)\n",
    "\n",
    "    return name"
   ]
  },
  {
   "cell_type": "markdown",
   "metadata": {},
   "source": [
    "## Formatting Function for Node"
   ]
  },
  {
   "cell_type": "code",
   "execution_count": 8,
   "metadata": {
    "collapsed": true
   },
   "outputs": [],
   "source": [
    "def process_node(element):\n",
    "    \"\"\"Format Node object and associated tags.  Remove attributes as they are processed.\"\"\"\n",
    "    node = {'type':'node'}\n",
    "    #Extract raw information for this node\n",
    "    attributes = {a:element.attrib[a] for a in element.attrib}\n",
    "    tags = [(t.attrib['k'],t.attrib['v']) for t in element.findall('tag')]\n",
    "    #tags used a list of tuples instead of dict because of potential duplicate keys\n",
    "    \n",
    "    #Add ID\n",
    "    node['id'] = element.attrib['id']\n",
    "    del attributes['id']\n",
    "    \n",
    "    #Add Position\n",
    "    if 'lat' in attributes and 'lon' in attributes:\n",
    "        node['pos'] = [float(element.attrib[\"lat\"]), float(element.attrib[\"lon\"])]\n",
    "        del attributes['lat']\n",
    "        del attributes['lon']\n",
    "\n",
    "    #Created\n",
    "    CREATED = [\"version\", \"changeset\", \"timestamp\", \"user\", \"uid\"]\n",
    "    created_attrib = [a for a in attributes if a in CREATED] #Which of the created attr are present\n",
    "    if len(created_attrib) > 0:\n",
    "        node['created'] = {}\n",
    "        for a in created_attrib:\n",
    "            node['created'][a] = element.attrib[a]\n",
    "            del attributes[a]\n",
    "    \n",
    "    #Remaining Attributes\n",
    "    for a in attributes:\n",
    "        if problemchars.match(a): #skip attributes with problematic keys\n",
    "            continue\n",
    "        else:\n",
    "            node[a] = element.attrib[a]\n",
    "\n",
    "    #Process tags\n",
    "    problemchars = re.compile(r'[=\\+/&<>;\\'\"\\?%#$@\\,\\. \\t\\r\\n]')\n",
    "    address = re.compile(r'^addr:([a-z]|_)+$')#match 'addr', one colon, some tag\n",
    "    gnis = re.compile(r'^gnis:([a-z]|_)+$')#similar structure to address.  Seems interesting.\n",
    "    lower = re.compile(r'^([a-z]|_)*$')\n",
    "    lower_colon = re.compile(r'^([a-z]|_)*:([a-z]|_)*$')\n",
    "\n",
    "    for k,v in tags:\n",
    "        if problemchars.match(k):\n",
    "            continue\n",
    "        elif address.match(k):\n",
    "            #Add Address dict if needed\n",
    "            if 'address' not in node.keys(): #add address dict if not present\n",
    "                node['address'] = dict()\n",
    "            #Get subnode and corrected (if possible) value\n",
    "            subnode = k.split(':')[1]\n",
    "            if subnode == 'street':\n",
    "                v = update_name(v, mapping_street_name)\n",
    "            #Add value\n",
    "            node['address'][subnode] = v\n",
    "        elif gnis.match(k):\n",
    "            if 'gnis' not in node.keys(): #add address dict if not present\n",
    "                node['gnis'] = dict()\n",
    "            node['gnis'][k.split(':')[1]] = v\n",
    "        elif lower.match(k) or lower_colon.match(k):\n",
    "            node[k] = v         \n",
    "    \n",
    "    return node"
   ]
  },
  {
   "cell_type": "markdown",
   "metadata": {},
   "source": [
    "## Formatting function for Way"
   ]
  },
  {
   "cell_type": "code",
   "execution_count": 9,
   "metadata": {
    "collapsed": true
   },
   "outputs": [],
   "source": [
    "def process_way(element):\n",
    "    \"\"\"Format Way object and associated nd and tags\"\"\"\n",
    "    way = {'type':'way'}\n",
    "    \n",
    "    #Extract raw information for this node\n",
    "    attributes = {a:element.attrib[a] for a in element.attrib}\n",
    "    noderefs = [n.attrib['ref'] for n in element.findall('nd')]\n",
    "    tags = [(t.attrib['k'],t.attrib['v']) for t in element.findall('tag')]\n",
    "    \n",
    "    #Add ID\n",
    "    way['id'] = element.attrib['id']\n",
    "    del attributes['id']\n",
    "    \n",
    "    #Created\n",
    "    CREATED = [\"version\", \"changeset\", \"timestamp\", \"user\", \"uid\"]\n",
    "    created_attrib = [a for a in attributes if a in CREATED] #Which of the created attr are present\n",
    "    if len(created_attrib) > 0:\n",
    "        way['created'] = {}\n",
    "        for a in created_attrib:\n",
    "            way['created'][a] = element.attrib[a]\n",
    "            del attributes[a]\n",
    "            \n",
    "    #Remaining Attributes\n",
    "    for a in attributes:\n",
    "        if problemchars.match(a): #skip attributes with problematic keys\n",
    "            continue\n",
    "        else:\n",
    "            way[a] = element.attrib[a]\n",
    "            \n",
    "    #Node Refs\n",
    "    if len(noderefs) > 0:\n",
    "        way['node_refs'] = noderefs\n",
    "    \n",
    "    #Process tags\n",
    "    problemchars = re.compile(r'[=\\+/&<>;\\'\"\\?%#$@\\,\\. \\t\\r\\n]')\n",
    "    tiger = re.compile(r'^tiger:([a-z]|_)+$') #Import from US Census Data for roadways, etc\n",
    "    lower = re.compile(r'^([a-z]|_)*$')\n",
    "    lower_colon = re.compile(r'^([a-z]|_)*:([a-z]|_)*$')\n",
    "\n",
    "    for k,v in tags:\n",
    "        if problemchars.match(k):\n",
    "            continue\n",
    "        elif tiger.match(k):\n",
    "            if 'tiger' not in way.keys(): #add address dict if not present\n",
    "                way['tiger'] = dict()\n",
    "            way['tiger'][k.split(':')[1]] = v\n",
    "        elif lower.match(k) or lower_colon.match(k):\n",
    "            way[k] = v \n",
    "    \n",
    "    return way"
   ]
  },
  {
   "cell_type": "markdown",
   "metadata": {},
   "source": [
    "## Iterate through XML file."
   ]
  },
  {
   "cell_type": "code",
   "execution_count": 10,
   "metadata": {
    "collapsed": true
   },
   "outputs": [],
   "source": [
    "def shape_element(element):\n",
    "    if element.tag == \"node\":\n",
    "        shaped_element = process_node(element)\n",
    "    elif element.tag == 'way':\n",
    "        shaped_element = process_way(element)\n",
    "    else:\n",
    "        shaped_element = None\n",
    "    return shaped_element\n",
    "        \n",
    "\n",
    "def process_map(file_in):\n",
    "    file_out = \"{0}.json\".format(file_in)\n",
    "    with open(file_out, \"w\") as fo:\n",
    "        for _, element in ET.iterparse(file_in):\n",
    "            el = shape_element(element)\n",
    "            if el:\n",
    "                fo.write(json.dumps(el)+\"\\n\")"
   ]
  },
  {
   "cell_type": "code",
   "execution_count": 11,
   "metadata": {
    "collapsed": false
   },
   "outputs": [],
   "source": [
    "process_map(datafile)"
   ]
  },
  {
   "cell_type": "markdown",
   "metadata": {
    "collapsed": true
   },
   "source": [
    "# Import into MongoDB"
   ]
  },
  {
   "cell_type": "code",
   "execution_count": 12,
   "metadata": {
    "collapsed": false
   },
   "outputs": [
    {
     "name": "stdout",
     "output_type": "stream",
     "text": [
      "2015-07-05T18:39:29.710-0400\tconnected to: localhost\n",
      "2015-07-05T18:39:29.710-0400\tdropping: osm.raleigh\n",
      "2015-07-05T18:39:32.708-0400\t[#.......................] osm.raleigh\t25.6 MB/562.6 MB (4.6%)\n",
      "2015-07-05T18:39:35.709-0400\t[##......................] osm.raleigh\t53.7 MB/562.6 MB (9.5%)\n",
      "2015-07-05T18:39:38.708-0400\t[###.....................] osm.raleigh\t82.0 MB/562.6 MB (14.6%)\n",
      "2015-07-05T18:39:41.709-0400\t[####....................] osm.raleigh\t110.4 MB/562.6 MB (19.6%)\n",
      "2015-07-05T18:39:44.708-0400\t[#####...................] osm.raleigh\t139.1 MB/562.6 MB (24.7%)\n",
      "2015-07-05T18:39:47.708-0400\t[#######.................] osm.raleigh\t166.7 MB/562.6 MB (29.6%)\n",
      "2015-07-05T18:39:50.708-0400\t[########................] osm.raleigh\t195.2 MB/562.6 MB (34.7%)\n",
      "2015-07-05T18:39:53.708-0400\t[#########...............] osm.raleigh\t224.1 MB/562.6 MB (39.8%)\n",
      "2015-07-05T18:39:56.708-0400\t[##########..............] osm.raleigh\t253.0 MB/562.6 MB (45.0%)\n",
      "2015-07-05T18:39:59.708-0400\t[############............] osm.raleigh\t281.7 MB/562.6 MB (50.1%)\n",
      "2015-07-05T18:40:02.708-0400\t[#############...........] osm.raleigh\t307.2 MB/562.6 MB (54.6%)\n",
      "2015-07-05T18:40:05.708-0400\t[##############..........] osm.raleigh\t335.6 MB/562.6 MB (59.6%)\n",
      "2015-07-05T18:40:08.708-0400\t[###############.........] osm.raleigh\t351.9 MB/562.6 MB (62.5%)\n",
      "2015-07-05T18:40:11.708-0400\t[################........] osm.raleigh\t380.0 MB/562.6 MB (67.5%)\n",
      "2015-07-05T18:40:14.708-0400\t[#################.......] osm.raleigh\t408.4 MB/562.6 MB (72.6%)\n",
      "2015-07-05T18:40:17.708-0400\t[##################......] osm.raleigh\t437.2 MB/562.6 MB (77.7%)\n",
      "2015-07-05T18:40:20.708-0400\t[###################.....] osm.raleigh\t459.1 MB/562.6 MB (81.6%)\n",
      "2015-07-05T18:40:23.708-0400\t[#####################...] osm.raleigh\t492.9 MB/562.6 MB (87.6%)\n",
      "2015-07-05T18:40:26.708-0400\t[######################..] osm.raleigh\t531.2 MB/562.6 MB (94.4%)\n",
      "2015-07-05T18:40:29.313-0400\timported 2735730 documents\n"
     ]
    }
   ],
   "source": [
    "#Using mongoimport\n",
    "!mongoimport -d osm -c raleigh --drop --file=\"../raleigh_north-carolina.osm.json\""
   ]
  },
  {
   "cell_type": "code",
   "execution_count": null,
   "metadata": {
    "collapsed": true
   },
   "outputs": [],
   "source": []
  }
 ],
 "metadata": {
  "kernelspec": {
   "display_name": "Python 3",
   "language": "python",
   "name": "python3"
  },
  "language_info": {
   "codemirror_mode": {
    "name": "ipython",
    "version": 3
   },
   "file_extension": ".py",
   "mimetype": "text/x-python",
   "name": "python",
   "nbconvert_exporter": "python",
   "pygments_lexer": "ipython3",
   "version": "3.4.3"
  }
 },
 "nbformat": 4,
 "nbformat_minor": 0
}
